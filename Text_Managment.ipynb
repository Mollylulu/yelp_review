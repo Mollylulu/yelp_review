{
 "cells": [
  {
   "cell_type": "code",
   "execution_count": 1,
   "metadata": {},
   "outputs": [],
   "source": [
    "import numpy as np\n",
    "import time\n",
    "import spacy\n",
    "import pandas as pd\n",
    "import seaborn as sb\n",
    "from tqdm import tqdm\n",
    "import matplotlib.pyplot as plt\n",
    "from spacy import displacy\n",
    "from nltk.stem.snowball import SnowballStemmer\n",
    "import math\n",
    "from sklearn.model_selection import train_test_split\n",
    "from sklearn import datasets\n",
    "from sklearn import svm\n",
    "from sklearn.datasets import load_svmlight_file\n",
    "from sklearn.model_selection import cross_val_score\n",
    "from sklearn.metrics import r2_score\n",
    "from sklearn.ensemble import RandomForestClassifier,GradientBoostingClassifier\n",
    "from sklearn.linear_model import LogisticRegression\n",
    "from sklearn.neighbors import KNeighborsClassifier\n",
    "from sklearn.tree import DecisionTreeClassifier\n",
    "from sklearn.svm import SVC\n",
    "from sklearn.ensemble import AdaBoostClassifier\n",
    "from sklearn.naive_bayes import GaussianNB\n",
    "from sklearn.model_selection import GridSearchCV,cross_val_score,StratifiedKFold\n",
    "import sklearn.preprocessing as preprocessing\n",
    "from readability import Readability\n",
    "import enchant\n",
    "from sklearn.metrics import make_scorer\n",
    "from sklearn.metrics import accuracy_score,roc_auc_score\n",
    "from sklearn.ensemble import VotingClassifier"
   ]
  },
  {
   "cell_type": "code",
   "execution_count": 2,
   "metadata": {},
   "outputs": [
    {
     "name": "stdout",
     "output_type": "stream",
     "text": [
      "   index               review_id                 user_id  \\\n",
      "0    524  8bTpgBiYAmuveHF_avX0SA  8vIK6ndl8yzIdmSDnGp0tw   \n",
      "1    602  PdqGgSuZcgPwIpPI5AyPtw  H9d0x9EuU63KPeRb2gCHfQ   \n",
      "2    627  8Xy5yRMsUSPvNv_lpCHsEg  aYt6yemtPLX1RbX7UT6KCw   \n",
      "3   1472  e3R37IGpvCvqWt0eWlhnbQ  2lmBAfQWAI06ziEfN5NkCQ   \n",
      "4   1743  8zDbR_DxgxFPN2EMTGKkdw  RdMD77Uwe8Mjy_EptbPa3g   \n",
      "\n",
      "              business_id  stars  useful  funny  cool  \\\n",
      "0  nQjuBVbcRFyX3trnuf_8CQ    3.0       0      0     0   \n",
      "1  33N-oL25LxumJNft-ULXTA    3.0       0      0     0   \n",
      "2  nQjuBVbcRFyX3trnuf_8CQ    4.0       0      0     0   \n",
      "3  OGNv45615-ni06lUvkV62w    2.0       2      0     0   \n",
      "4  Ul0EYexHUOptT9L2GUZJug    5.0       1      1     2   \n",
      "\n",
      "                                                text                 date  \n",
      "0  Notes: 1 visit, late lunch.\\nOverall: Food had...  2010-01-08 03:17:23  \n",
      "1  Used to be really good with previous owner. Si...  2017-08-28 20:45:03  \n",
      "2  Being in Vegas for nearly 1 week, I was cravin...  2011-03-20 04:20:27  \n",
      "3  I originally came in here in January for a dis...  2015-06-08 18:29:38  \n",
      "4  I love Angie as a person and as a small busine...  2013-05-07 06:26:14  \n"
     ]
    }
   ],
   "source": [
    "###Do Tokenization and stemming###\n",
    "DATA_PATH = '/home/wangbo/桌面/sampled_data.csv'\n",
    "\n",
    "data = pd.read_csv(DATA_PATH)\n",
    "data.rename(columns={'Unnamed: 0':'index'}, inplace=True)\n",
    "print(data.head())\n",
    "# print(data.columns)\n",
    "\n",
    "nlp = spacy.load('en_core_web_sm')\n",
    "\n",
    "def tokenizeReviews(data):\n",
    "    token_nums = []\n",
    "    stem_nums = []\n",
    "    start_time = time.time()\n",
    "    reviews = data['text'].values\n",
    "    total_len = data.shape[0]\n",
    "    stemmer = SnowballStemmer('english')\n",
    "    print('Total reviews in this 200 business sub-dataset: {}'.format(total_len))\n",
    "    pro_bar = tqdm(total=total_len)\n",
    "    for doc in nlp.pipe(reviews, batch_size=200, n_process=8, disable=[\"parser\", \"ner\", \"textcat\"]):\n",
    "        _token = set()\n",
    "        _stem = set()\n",
    "        for token in doc:\n",
    "            _token.add(token.text)\n",
    "            _stem.add(stemmer.stem(token.text))\n",
    "        token_nums.append(len(_token))\n",
    "        stem_nums.append(len(_stem))\n",
    "        pro_bar.update(1)\n",
    "    pro_bar.close()\n",
    "    data['token_nums'] = token_nums\n",
    "    data['stem_nums'] = stem_nums\n",
    "    assert isinstance(data, pd.DataFrame)\n",
    "    data.to_csv('/home/wangbo/桌面/token_stemming.csv')"
   ]
  },
  {
   "cell_type": "code",
   "execution_count": 3,
   "metadata": {},
   "outputs": [
    {
     "name": "stdout",
     "output_type": "stream",
     "text": [
      "<class 'pandas.core.frame.DataFrame'>\n",
      "Int64Index: 3086 entries, 6045 to 9855\n",
      "Data columns (total 13 columns):\n",
      " #   Column       Non-Null Count  Dtype  \n",
      "---  ------       --------------  -----  \n",
      " 0   Unnamed: 0   3086 non-null   int64  \n",
      " 1   index        3086 non-null   int64  \n",
      " 2   review_id    3086 non-null   object \n",
      " 3   user_id      3086 non-null   object \n",
      " 4   business_id  3086 non-null   object \n",
      " 5   stars        3086 non-null   float64\n",
      " 6   useful       3086 non-null   int64  \n",
      " 7   funny        3086 non-null   int64  \n",
      " 8   cool         3086 non-null   int64  \n",
      " 9   text         3086 non-null   object \n",
      " 10  date         3086 non-null   object \n",
      " 11  token_nums   3086 non-null   int64  \n",
      " 12  stem_nums    3086 non-null   int64  \n",
      "dtypes: float64(1), int64(7), object(5)\n",
      "memory usage: 337.5+ KB\n"
     ]
    }
   ],
   "source": [
    "#####Find business ID with most review#####\n",
    "data=pd.read_csv('/home/wangbo/桌面/token_stemming.csv')\n",
    "data['business_id'].value_counts().max()\n",
    "data['business_id'].value_counts().idxmax()\n",
    "business_id1 = data['business_id']=='igHYkXZMLAc9UdV5VnR_AA'\n",
    "business_id1\n",
    "data1=data[business_id1]\n",
    "data1[\"business_id\"]\n",
    "data1.info()"
   ]
  },
  {
   "cell_type": "code",
   "execution_count": 4,
   "metadata": {},
   "outputs": [
    {
     "name": "stdout",
     "output_type": "stream",
     "text": [
      "<class 'pandas.core.frame.DataFrame'>\n",
      "Int64Index: 2418 entries, 6045 to 9855\n",
      "Data columns (total 13 columns):\n",
      " #   Column       Non-Null Count  Dtype  \n",
      "---  ------       --------------  -----  \n",
      " 0   Unnamed: 0   2418 non-null   int64  \n",
      " 1   index        2418 non-null   int64  \n",
      " 2   review_id    2418 non-null   object \n",
      " 3   user_id      2418 non-null   object \n",
      " 4   business_id  2418 non-null   object \n",
      " 5   stars        2418 non-null   float64\n",
      " 6   useful       2418 non-null   int64  \n",
      " 7   funny        2418 non-null   int64  \n",
      " 8   cool         2418 non-null   int64  \n",
      " 9   text         2418 non-null   object \n",
      " 10  date         2418 non-null   object \n",
      " 11  token_nums   2418 non-null   int64  \n",
      " 12  stem_nums    2418 non-null   int64  \n",
      "dtypes: float64(1), int64(7), object(5)\n",
      "memory usage: 264.5+ KB\n"
     ]
    }
   ],
   "source": [
    "#####Cut review with count<30 & >200####\n",
    "text1 = (data1['stem_nums']<200)& (data1['stem_nums']>30)\n",
    "data2=data1[text1]\n",
    "data2.info()"
   ]
  },
  {
   "cell_type": "code",
   "execution_count": 5,
   "metadata": {},
   "outputs": [
    {
     "name": "stderr",
     "output_type": "stream",
     "text": [
      "<ipython-input-5-21c9c445f8bf>:4: SettingWithCopyWarning: \n",
      "A value is trying to be set on a copy of a slice from a DataFrame.\n",
      "Try using .loc[row_indexer,col_indexer] = value instead\n",
      "\n",
      "See the caveats in the documentation: https://pandas.pydata.org/pandas-docs/stable/user_guide/indexing.html#returning-a-view-versus-a-copy\n",
      "  data2['ylabel']=0\n",
      "/home/wangbo/anaconda3/lib/python3.8/site-packages/pandas/core/indexing.py:670: SettingWithCopyWarning: \n",
      "A value is trying to be set on a copy of a slice from a DataFrame\n",
      "\n",
      "See the caveats in the documentation: https://pandas.pydata.org/pandas-docs/stable/user_guide/indexing.html#returning-a-view-versus-a-copy\n",
      "  iloc._setitem_with_indexer(indexer, value)\n",
      "<ipython-input-5-21c9c445f8bf>:9: SettingWithCopyWarning: \n",
      "A value is trying to be set on a copy of a slice from a DataFrame\n",
      "\n",
      "See the caveats in the documentation: https://pandas.pydata.org/pandas-docs/stable/user_guide/indexing.html#returning-a-view-versus-a-copy\n",
      "  data2['ylabel'].iloc[i]=0.0\n",
      "<ipython-input-5-21c9c445f8bf>:7: SettingWithCopyWarning: \n",
      "A value is trying to be set on a copy of a slice from a DataFrame\n",
      "\n",
      "See the caveats in the documentation: https://pandas.pydata.org/pandas-docs/stable/user_guide/indexing.html#returning-a-view-versus-a-copy\n",
      "  data2['ylabel'].iloc[i]=1.0\n"
     ]
    }
   ],
   "source": [
    "#####Use Useful index as ylabel for further prediction#####\n",
    "useful_nums = data2['useful'].value_counts()\n",
    "i=0\n",
    "data2['ylabel']=0\n",
    "while i<=2417:\n",
    "    if data2['useful'].iloc[i]>0:\n",
    "        data2['ylabel'].iloc[i]=1.0\n",
    "    else:\n",
    "        data2['ylabel'].iloc[i]=0.0\n",
    "    i+=1\n",
    "ylabel_num=data2['ylabel'].value_counts()\n",
    "ylabel_num\n",
    "data2.to_csv('data2.csv')"
   ]
  },
  {
   "cell_type": "code",
   "execution_count": 6,
   "metadata": {},
   "outputs": [
    {
     "name": "stderr",
     "output_type": "stream",
     "text": [
      "<>:19: SyntaxWarning: \"is\" with a literal. Did you mean \"==\"?\n",
      "<>:19: SyntaxWarning: \"is\" with a literal. Did you mean \"==\"?\n",
      "<>:19: SyntaxWarning: \"is\" with a literal. Did you mean \"==\"?\n",
      "<>:39: SyntaxWarning: \"is\" with a literal. Did you mean \"==\"?\n",
      "<>:58: SyntaxWarning: \"is\" with a literal. Did you mean \"==\"?\n",
      "<>:19: SyntaxWarning: \"is\" with a literal. Did you mean \"==\"?\n",
      "<>:19: SyntaxWarning: \"is\" with a literal. Did you mean \"==\"?\n",
      "<>:19: SyntaxWarning: \"is\" with a literal. Did you mean \"==\"?\n",
      "<>:39: SyntaxWarning: \"is\" with a literal. Did you mean \"==\"?\n",
      "<>:58: SyntaxWarning: \"is\" with a literal. Did you mean \"==\"?\n",
      "<ipython-input-6-1220c73159c9>:19: SyntaxWarning: \"is\" with a literal. Did you mean \"==\"?\n",
      "  if(token.pos_ is 'ADJ' and (token.dep_ is 'amod' or token.dep_ is 'acomp')): #amod: adjectival modifier\n",
      "<ipython-input-6-1220c73159c9>:19: SyntaxWarning: \"is\" with a literal. Did you mean \"==\"?\n",
      "  if(token.pos_ is 'ADJ' and (token.dep_ is 'amod' or token.dep_ is 'acomp')): #amod: adjectival modifier\n",
      "<ipython-input-6-1220c73159c9>:19: SyntaxWarning: \"is\" with a literal. Did you mean \"==\"?\n",
      "  if(token.pos_ is 'ADJ' and (token.dep_ is 'amod' or token.dep_ is 'acomp')): #amod: adjectival modifier\n",
      "<ipython-input-6-1220c73159c9>:39: SyntaxWarning: \"is\" with a literal. Did you mean \"==\"?\n",
      "  if token.pos_ is 'VERB':\n",
      "<ipython-input-6-1220c73159c9>:58: SyntaxWarning: \"is\" with a literal. Did you mean \"==\"?\n",
      "  if token.pos_ is 'NOUN':\n",
      "  0%|          | 0/2418 [00:00<?, ?it/s]"
     ]
    },
    {
     "name": "stdout",
     "output_type": "stream",
     "text": [
      "len of review list 2418\n"
     ]
    },
    {
     "name": "stderr",
     "output_type": "stream",
     "text": [
      "100%|██████████| 2418/2418 [00:18<00:00, 127.60it/s]\n",
      "  0%|          | 0/2418 [00:00<?, ?it/s]"
     ]
    },
    {
     "name": "stdout",
     "output_type": "stream",
     "text": [
      "len of review list 2418\n"
     ]
    },
    {
     "name": "stderr",
     "output_type": "stream",
     "text": [
      "100%|██████████| 2418/2418 [00:23<00:00, 102.72it/s]\n",
      "  0%|          | 0/2418 [00:00<?, ?it/s]"
     ]
    },
    {
     "name": "stdout",
     "output_type": "stream",
     "text": [
      "len of review list 2418\n"
     ]
    },
    {
     "name": "stderr",
     "output_type": "stream",
     "text": [
      "100%|██████████| 2418/2418 [00:22<00:00, 108.92it/s]\n"
     ]
    }
   ],
   "source": [
    "### Get ADJ, Verb and Noun Number for review######\n",
    "import numpy as np\n",
    "import pandas as pd\n",
    "import math\n",
    "from tqdm import tqdm\n",
    "import spacy\n",
    "\n",
    "nlp = spacy.load('en_core_web_sm')\n",
    "####Get ADJ#####\n",
    "def get_adj(review_list):\n",
    "    review_text = review_list['text'].values\n",
    "    total_len = len(review_list)\n",
    "    print('len of review list', total_len)\n",
    "    adj_list=[]\n",
    "    pbar = tqdm(total=total_len)\n",
    "    for doc in nlp.pipe(review_text, batch_size=400, n_process=16):\n",
    "        adj=''\n",
    "        for token in doc:\n",
    "            if(token.pos_ is 'ADJ' and (token.dep_ is 'amod' or token.dep_ is 'acomp')): #amod: adjectival modifier\n",
    "                adj+=token.lemma_                                                        #acomp: adjectival complement\n",
    "                adj+=' '\n",
    "        adj=adj.strip(' ')\n",
    "        adj_list.append(adj)\n",
    "        pbar.update(1)\n",
    "    pbar.close()\n",
    "    adj_series=pd.Series(adj_list)\n",
    "    review_list.insert(0,'adj',adj_series)\n",
    "    review_list.to_csv('adj_output.csv')\n",
    "#####Get Verb#####\n",
    "def get_verb(review_list):\n",
    "    review_text = review_list['text'].values\n",
    "    total_len = len(review_list)\n",
    "    print('len of review list', total_len)\n",
    "    verb_list=[]\n",
    "    pbar = tqdm(total=total_len)\n",
    "    for doc in nlp.pipe(review_text, batch_size=400, n_process=16):\n",
    "        verb=''\n",
    "        for token in doc:\n",
    "            if token.pos_ is 'VERB':\n",
    "                verb+=token.lemma_                                                        \n",
    "                verb+=' '\n",
    "        verb=verb.strip(' ')\n",
    "        verb_list.append(verb)\n",
    "        pbar.update(1)\n",
    "    pbar.close()\n",
    "    verb_series=pd.Series(verb_list)\n",
    "    review_list.insert(0,'verb',verb_series)\n",
    "#####Get Noun#####\n",
    "def get_noun(review_list):\n",
    "    review_text = review_list['text'].values\n",
    "    total_len = len(review_list)\n",
    "    print('len of review list', total_len)\n",
    "    noun_list=[]\n",
    "    pbar = tqdm(total=total_len)\n",
    "    for doc in nlp.pipe(review_text, batch_size=400, n_process=16):\n",
    "        noun=''\n",
    "        for token in doc:\n",
    "            if token.pos_ is 'NOUN':\n",
    "                noun+=token.lemma_                                                        \n",
    "                noun+=' '\n",
    "        noun=noun.strip(' ')\n",
    "        noun_list.append(noun)\n",
    "        pbar.update(1)\n",
    "    pbar.close()\n",
    "    noun_series=pd.Series(noun_list)\n",
    "    review_list.insert(0,'noun',noun_series)\n",
    "if __name__ == '__main__':\n",
    "    review_list = pd.read_csv('data2.csv')\n",
    "    get_adj(review_list)\n",
    "    get_verb(review_list)\n",
    "    get_noun(review_list)"
   ]
  },
  {
   "cell_type": "code",
   "execution_count": 8,
   "metadata": {},
   "outputs": [
    {
     "name": "stdout",
     "output_type": "stream",
     "text": [
      "<class 'pandas.core.frame.DataFrame'>\n",
      "RangeIndex: 2418 entries, 0 to 2417\n",
      "Data columns (total 21 columns):\n",
      " #   Column        Non-Null Count  Dtype  \n",
      "---  ------        --------------  -----  \n",
      " 0   noun          2418 non-null   object \n",
      " 1   verb          2418 non-null   object \n",
      " 2   adj           2418 non-null   object \n",
      " 3   Unnamed: 0    2418 non-null   int64  \n",
      " 4   Unnamed: 0.1  2418 non-null   int64  \n",
      " 5   index         2418 non-null   int64  \n",
      " 6   review_id     2418 non-null   object \n",
      " 7   user_id       2418 non-null   object \n",
      " 8   business_id   2418 non-null   object \n",
      " 9   stars         2418 non-null   float64\n",
      " 10  useful        2418 non-null   int64  \n",
      " 11  funny         2418 non-null   int64  \n",
      " 12  cool          2418 non-null   int64  \n",
      " 13  text          2418 non-null   object \n",
      " 14  date          2418 non-null   object \n",
      " 15  token_nums    2418 non-null   int64  \n",
      " 16  stem_nums     2418 non-null   int64  \n",
      " 17  ylabel        2418 non-null   float64\n",
      " 18  adj_count     2418 non-null   int64  \n",
      " 19  verb_count    2418 non-null   int64  \n",
      " 20  noun_count    2418 non-null   int64  \n",
      "dtypes: float64(2), int64(11), object(8)\n",
      "memory usage: 396.8+ KB\n"
     ]
    }
   ],
   "source": [
    "#### ADD ADJ, VERB, NOUN Words COUNT#####\n",
    "review_list['adj_count']=review_list.adj.apply(lambda x: len(str(x).split(' ')))\n",
    "review_list['verb_count']=review_list.verb.apply(lambda x: len(str(x).split(' ')))\n",
    "review_list['noun_count']=review_list.noun.apply(lambda x: len(str(x).split(' ')))\n",
    "review_list.info()"
   ]
  },
  {
   "cell_type": "code",
   "execution_count": 9,
   "metadata": {},
   "outputs": [
    {
     "name": "stdout",
     "output_type": "stream",
     "text": [
      "top-10 most indicative adjectives for star 1.0 :\n",
      "[('bad', 0.3349702275150748), ('cold', 0.2622636536469612), ('terrible', 0.20721020153997782), ('rude', 0.16097466149000178), ('horrible', 0.15203793554082995), ('ready', 0.13486744561065778), ('wrong', 0.12711965558701296), ('available', 0.12529620624176843), ('rare', 0.12029021636907426), ('cooked', 0.10787581795771095)] \n",
      "\n",
      "top-10 most indicative adjectives for star 2.0 :\n",
      "[('cold', 0.21429655300961564), ('slow', 0.19222949289018987), ('disappointing', 0.1891926608774909), ('bad', 0.17802966894431), ('many', 0.1753209711653264), ('horrible', 0.16493433372145236), ('raw', 0.13207620667760558), ('few', 0.11967811264724608), ('bland', 0.11569061903964695), ('well', 0.11035205903787124)] \n",
      "\n",
      "top-10 most indicative adjectives for star 3.0 :\n",
      "[('ok', 0.1709997132094282), ('good', 0.15434128813254755), ('nice', 0.13735409872116927), ('same', 0.1095573134485608), ('mediocre', 0.10212780202347821), ('bland', 0.0995592122031467), ('busy', 0.0964712441927221), ('average', 0.08062361244767753), ('cold', 0.07884505148338637), ('disappointed', 0.07588982261200287)] \n",
      "\n",
      "top-10 most indicative adjectives for star 4.0 :\n",
      "[('good', 0.11356813573075143), ('little', 0.09304637227249894), ('nice', 0.08964956363511688), ('only', 0.08299337274919652), ('small', 0.07735283877980406), ('great', 0.052050390445361853), ('large', 0.04235493952333226), ('first', 0.03834502247336364), ('quick', 0.03831515063021652), ('open', 0.036997013280837904)] \n",
      "\n",
      "top-10 most indicative adjectives for star 5.0 :\n",
      "[('amazing', 0.05737310820844293), ('favorite', 0.024136544727641648), ('delicious', 0.02124230356620157), ('perfect', 0.01918146634744759), ('great', 0.01881327994728764), ('wonderful', 0.017225709613530864), ('incredible', 0.013256106561370846), ('fantastic', 0.011637282702656886), ('top', 0.010267934720172577), ('beautiful', 0.009584388498492346)] \n",
      "\n"
     ]
    }
   ],
   "source": [
    "###################################################################################################\n",
    "## Step 2: compute indivativeness and get top-10 most indicative adjectives for each rating star ##\n",
    "###################################################################################################\n",
    "\n",
    "# the probability of observing word in all reviews\n",
    "def compute_prob_in_all(adj, word): \n",
    "    word_num = 0\n",
    "    for i in adj:\n",
    "        if(word in i):\n",
    "            word_num += 1\n",
    "    prob_in_all = word_num / len(adj)\n",
    "    return prob_in_all\n",
    "\n",
    "# the probability of observing word in all reviews with rating star\n",
    "def compute_prob_in_stars(adj, stars, current_star, word): \n",
    "    word_num = 0\n",
    "    stars_num = 0\n",
    "    for i in range(len(adj)):\n",
    "        if(stars[i] == current_star):\n",
    "            stars_num += 1\n",
    "            if(word in adj[i]):\n",
    "                word_num += 1\n",
    "    prob_in_stars = word_num / stars_num\n",
    "    return prob_in_stars\n",
    "\n",
    "reviews = pd.read_csv('adj_output.csv')\n",
    "adj_reviews = reviews['adj'].values\n",
    "\n",
    "adj = [] # each line represents adjectives extracted from each review\n",
    "for i in adj_reviews:\n",
    "    if(pd.isnull(i)):\n",
    "        adj.append([])\n",
    "    else:\n",
    "        adj.append(i.split(' '))\n",
    "\n",
    "all_adj_word = set()  # all non-repeated adjectives that appear in reviews\n",
    "for i in adj:\n",
    "    for j in i:\n",
    "        all_adj_word.add(j)\n",
    "\n",
    "stars = reviews['stars'].values\n",
    "all_stars=[1.0,2.0,3.0,4.0,5.0]\n",
    "\n",
    "# compute indivativeness and get top-10 results\n",
    "for current_star in all_stars:\n",
    "    word_IA = dict() # key:word value:IA(indicative adjectives)\n",
    "    for word in all_adj_word:\n",
    "        prob_in_stars = compute_prob_in_stars(adj, stars, current_star, word)\n",
    "        prob_in_all = compute_prob_in_all(adj, word)\n",
    "        if(prob_in_stars == 0):\n",
    "            prob_indicative = 0\n",
    "        else:\n",
    "            prob_indicative = prob_in_stars * math.log(prob_in_stars / prob_in_all)\n",
    "        word_IA[word] = prob_indicative\n",
    "    result = sorted(word_IA.items(), key=lambda d:d[1], reverse=True)\n",
    "    print('top-10 most indicative adjectives for star', current_star, ':')\n",
    "    print(result[0:10],'\\n')"
   ]
  },
  {
   "cell_type": "code",
   "execution_count": 10,
   "metadata": {},
   "outputs": [
    {
     "data": {
      "text/plain": [
       "0       2\n",
       "1       2\n",
       "2       2\n",
       "3       3\n",
       "4       2\n",
       "       ..\n",
       "2413    3\n",
       "2414    3\n",
       "2415    0\n",
       "2416    1\n",
       "2417    1\n",
       "Name: ind_adj, Length: 2418, dtype: int64"
      ]
     },
     "execution_count": 10,
     "metadata": {},
     "output_type": "execute_result"
    }
   ],
   "source": [
    "###indicative adjective counts###\n",
    "star1=['bad','cold','terrible','rude','horrible','ready','wrong','avaiable','rare','cooked']\n",
    "star2=['cold','slow','disappointing','bad','many','horrible','raw','few','bland','well']\n",
    "star3=['ok','good','nice','same','mediocre','bland','busy','average','cold','disappointed']\n",
    "star4=['good','little','nice','only','small','great','large','first','quick','open']\n",
    "star5=['amazing','favorite','delicious','perfect','great','wonderful','incredible','fantastic','top','beautiful']\n",
    "review_list['adj_new']=review_list.adj.apply(lambda x: str(x).split(' '))\n",
    "i=0\n",
    "review_list['ind_adj']=0\n",
    "while i<2418:\n",
    "    if review_list['stars'].iloc[i]==1.0:\n",
    "        for x in review_list['adj_new'].iloc[i]:\n",
    "            if x in star1:\n",
    "                review_list['ind_adj'].iloc[i]+=1\n",
    "                \n",
    "    elif review_list['stars'].iloc[i]==2.0:\n",
    "        for x in review_list['adj_new'].iloc[i]:\n",
    "            if x in star2:\n",
    "                review_list['ind_adj'].iloc[i]+=1\n",
    "    \n",
    "    elif review_list['stars'].iloc[i]==3.0:\n",
    "        for x in review_list['adj_new'].iloc[i]:\n",
    "            if x in star3:\n",
    "                review_list['ind_adj'].iloc[i]+=1     \n",
    "                \n",
    "    elif review_list['stars'].iloc[i]==4.0:\n",
    "        for x in review_list['adj_new'].iloc[i]:\n",
    "            if x in star4:\n",
    "                review_list['ind_adj'].iloc[i]+=1\n",
    "    \n",
    "    elif review_list['stars'].iloc[i]==5.0:\n",
    "        for x in review_list['adj_new'].iloc[i]:\n",
    "            if x in star5:\n",
    "                review_list['ind_adj'].iloc[i]+=1\n",
    "                \n",
    "    i+=1\n",
    "review_list['ind_adj']"
   ]
  },
  {
   "cell_type": "code",
   "execution_count": 11,
   "metadata": {},
   "outputs": [
    {
     "data": {
      "text/plain": [
       "0       10.941576\n",
       "1       10.747027\n",
       "2        8.727809\n",
       "3        8.338019\n",
       "4       13.749167\n",
       "          ...    \n",
       "2413    10.779925\n",
       "2414    10.249024\n",
       "2415    10.859082\n",
       "2416     8.968662\n",
       "2417    11.782741\n",
       "Name: Readability, Length: 2418, dtype: float64"
      ]
     },
     "execution_count": 11,
     "metadata": {},
     "output_type": "execute_result"
    }
   ],
   "source": [
    "####Flesh Kincaid Readability Test####\n",
    "def FleschKincaidTest(text):\n",
    "\tscore = 0.0\n",
    "\tif len(text) > 0:\n",
    "\t\tscore = (0.39 * len(text.split()) / len(text.split('.')) ) + 11.8 * ( sum(list(map(lambda x: 1 if x in [\"a\",\"i\",\"e\",\"o\",\"u\",\"y\",\"A\",\"E\",\"I\",\"O\",\"U\",\"y\"] else 0,text))) / len(text.split())) - 15.59\n",
    "\t\treturn score if score > 0 else 0\n",
    "i=0\n",
    "review_list['Readability']=0\n",
    "while i<=2417:\n",
    "    review_list['Readability'].iloc[i]=FleschKincaidTest(review_list['text'].iloc[i])\n",
    "    i+=1\n",
    "review_list['Readability']"
   ]
  },
  {
   "cell_type": "code",
   "execution_count": 12,
   "metadata": {},
   "outputs": [
    {
     "data": {
      "text/plain": [
       "0        8\n",
       "1        0\n",
       "2        7\n",
       "3        4\n",
       "4       12\n",
       "        ..\n",
       "2413     2\n",
       "2414     8\n",
       "2415    10\n",
       "2416     2\n",
       "2417    20\n",
       "Name: notindic, Length: 2418, dtype: int64"
      ]
     },
     "execution_count": 12,
     "metadata": {},
     "output_type": "execute_result"
    }
   ],
   "source": [
    "###wrong words counts in review###\n",
    "d = enchant.Dict(\"en_US\")\n",
    "review_list['word']=review_list.text.apply(lambda x: str(x).split(' '))\n",
    "i=0\n",
    "review_list['notindic']=0\n",
    "while i<=2417:\n",
    "    for x in review_list['word'].iloc[i]:\n",
    "        if len(x)==0:\n",
    "            continue\n",
    "        elif d.check(x)==False:\n",
    "            review_list['notindic'].iloc[i]+=1\n",
    "    i+=1\n",
    "review_list['notindic']"
   ]
  },
  {
   "cell_type": "code",
   "execution_count": 13,
   "metadata": {},
   "outputs": [
    {
     "name": "stdout",
     "output_type": "stream",
     "text": [
      "<class 'pandas.core.frame.DataFrame'>\n",
      "RangeIndex: 2418 entries, 0 to 2417\n",
      "Data columns (total 26 columns):\n",
      " #   Column        Non-Null Count  Dtype  \n",
      "---  ------        --------------  -----  \n",
      " 0   noun          2418 non-null   object \n",
      " 1   verb          2418 non-null   object \n",
      " 2   adj           2418 non-null   object \n",
      " 3   Unnamed: 0    2418 non-null   int64  \n",
      " 4   Unnamed: 0.1  2418 non-null   int64  \n",
      " 5   index         2418 non-null   int64  \n",
      " 6   review_id     2418 non-null   object \n",
      " 7   user_id       2418 non-null   object \n",
      " 8   business_id   2418 non-null   object \n",
      " 9   stars         2418 non-null   float64\n",
      " 10  useful        2418 non-null   int64  \n",
      " 11  funny         2418 non-null   int64  \n",
      " 12  cool          2418 non-null   int64  \n",
      " 13  text          2418 non-null   object \n",
      " 14  date          2418 non-null   object \n",
      " 15  token_nums    2418 non-null   int64  \n",
      " 16  stem_nums     2418 non-null   int64  \n",
      " 17  ylabel        2418 non-null   float64\n",
      " 18  adj_count     2418 non-null   int64  \n",
      " 19  verb_count    2418 non-null   int64  \n",
      " 20  noun_count    2418 non-null   int64  \n",
      " 21  adj_new       2418 non-null   object \n",
      " 22  ind_adj       2418 non-null   int64  \n",
      " 23  Readability   2418 non-null   float64\n",
      " 24  word          2418 non-null   object \n",
      " 25  notindic      2418 non-null   int64  \n",
      "dtypes: float64(3), int64(13), object(10)\n",
      "memory usage: 491.3+ KB\n"
     ]
    }
   ],
   "source": [
    "review_list.info()"
   ]
  },
  {
   "cell_type": "code",
   "execution_count": 14,
   "metadata": {},
   "outputs": [
    {
     "name": "stdout",
     "output_type": "stream",
     "text": [
      "<class 'pandas.core.frame.DataFrame'>\n",
      "RangeIndex: 2418 entries, 0 to 2417\n",
      "Data columns (total 7 columns):\n",
      " #   Column              Non-Null Count  Dtype  \n",
      "---  ------              --------------  -----  \n",
      " 0   ylabel              2418 non-null   float64\n",
      " 1   Scaled_stem_nums    2418 non-null   float64\n",
      " 2   Scaled_verb_count   2418 non-null   float64\n",
      " 3   Scaled_noun_count   2418 non-null   float64\n",
      " 4   Scaled_ind_adj      2418 non-null   float64\n",
      " 5   Scaled_Readability  2418 non-null   float64\n",
      " 6   Scaled_notindic     2418 non-null   float64\n",
      "dtypes: float64(7)\n",
      "memory usage: 132.4 KB\n"
     ]
    }
   ],
   "source": [
    "####Feature Engineering####\n",
    "scaler = preprocessing.StandardScaler()\n",
    "stem_nums_param = scaler.fit(review_list[['stem_nums']])\n",
    "review_list['Scaled_stem_nums'] = scaler.fit_transform(review_list[['stem_nums']], stem_nums_param)\n",
    "verb_count_param = scaler.fit(review_list[['verb_count']])\n",
    "review_list['Scaled_verb_count'] = scaler.fit_transform(review_list[['verb_count']], verb_count_param)\n",
    "noun_count_param = scaler.fit(review_list[['noun_count']])\n",
    "review_list['Scaled_noun_count'] = scaler.fit_transform(review_list[['noun_count']], noun_count_param)\n",
    "ind_adj_param = scaler.fit(review_list[['ind_adj']])\n",
    "review_list['Scaled_ind_adj'] = scaler.fit_transform(review_list[['ind_adj']], ind_adj_param)\n",
    "Readability_param = scaler.fit(review_list[['Readability']])\n",
    "review_list['Scaled_Readability'] = scaler.fit_transform(review_list[['Readability']], Readability_param)\n",
    "notindic_param = scaler.fit(review_list[['notindic']])\n",
    "review_list['Scaled_notindic'] = scaler.fit_transform(review_list[['notindic']], notindic_param)\n",
    "review_list.drop(['stem_nums','verb_count','noun_count','ind_adj','Readability','notindic'],axis=1, inplace=True)\n",
    "review_list.drop(['review_id','user_id','business_id','stars','noun','verb','adj'],axis=1, inplace=True)\n",
    "review_list.drop(['index','useful','funny','cool','text','date','token_nums'],axis=1, inplace=True)\n",
    "review_list.drop(['adj_count','adj_new','word','Unnamed: 0', 'Unnamed: 0.1'],axis=1, inplace=True)\n",
    "review_list.info()"
   ]
  },
  {
   "cell_type": "code",
   "execution_count": 15,
   "metadata": {},
   "outputs": [
    {
     "name": "stdout",
     "output_type": "stream",
     "text": [
      "Accuracy: 0.6667 (+/- 0.0187) [SVC()]\n",
      "Accuracy: 0.5778 (+/- 0.0292) [DecisionTreeClassifier()]\n",
      "Accuracy: 0.6381 (+/- 0.0202) [RandomForestClassifier(random_state=1)]\n",
      "Accuracy: 0.6576 (+/- 0.0238) [GradientBoostingClassifier(random_state=1)]\n",
      "Accuracy: 0.6460 (+/- 0.0291) [KNeighborsClassifier()]\n",
      "Accuracy: 0.6716 (+/- 0.0199) [LogisticRegression()]\n",
      "Accuracy: 0.6655 (+/- 0.0327) [AdaBoostClassifier()]\n",
      "Accuracy: 0.6564 (+/- 0.0321) [GaussianNB()]\n"
     ]
    }
   ],
   "source": [
    "###Classifier Model Traning###\n",
    "y = review_list['ylabel']\n",
    "X = review_list.drop('ylabel',axis=1)\n",
    "kfold=StratifiedKFold(n_splits=10)\n",
    "classifiers=[]\n",
    "classifiers.append(SVC())\n",
    "classifiers.append(DecisionTreeClassifier())\n",
    "classifiers.append(RandomForestClassifier(random_state=1))\n",
    "classifiers.append(GradientBoostingClassifier(random_state=1))\n",
    "classifiers.append(KNeighborsClassifier())\n",
    "classifiers.append(LogisticRegression())\n",
    "classifiers.append(AdaBoostClassifier())\n",
    "classifiers.append(GaussianNB())\n",
    "for classifier in classifiers:\n",
    "    cv_results = (cross_val_score(classifier,X,\n",
    "                                  y,scoring='accuracy'\n",
    "                                  ,cv=kfold,n_jobs=-1))\n",
    "    print(\"Accuracy: %0.4f (+/- %0.4f) [%s]\" % \n",
    "          ((cv_results.mean(), cv_results.std(), classifier)))"
   ]
  },
  {
   "cell_type": "code",
   "execution_count": 16,
   "metadata": {},
   "outputs": [
    {
     "name": "stdout",
     "output_type": "stream",
     "text": [
      "Fitting 10 folds for each of 6 candidates, totalling 60 fits\n"
     ]
    },
    {
     "name": "stderr",
     "output_type": "stream",
     "text": [
      "[Parallel(n_jobs=-1)]: Using backend LokyBackend with 8 concurrent workers.\n",
      "[Parallel(n_jobs=-1)]: Done  60 out of  60 | elapsed:    0.2s finished\n"
     ]
    },
    {
     "name": "stdout",
     "output_type": "stream",
     "text": [
      "modelgsLR score is：0.6716\n"
     ]
    }
   ],
   "source": [
    "###hyper parameter adjustment###\n",
    "#Logistic Regression\n",
    "modelLR=LogisticRegression()\n",
    "LR_param_grid = {'C' : [1,2,3],\n",
    "                'penalty':['l1','l2']}\n",
    "modelgsLR = GridSearchCV(modelLR,param_grid = LR_param_grid, cv=kfold, \n",
    "                                     scoring=\"accuracy\", n_jobs= -1, verbose = 1)\n",
    "modelgsLR.fit(X,y)\n",
    "print('modelgsLR score is：%.4f'%modelgsLR.best_score_)"
   ]
  },
  {
   "cell_type": "code",
   "execution_count": 17,
   "metadata": {},
   "outputs": [
    {
     "name": "stdout",
     "output_type": "stream",
     "text": [
      "{'n_estimators': 100}\n"
     ]
    }
   ],
   "source": [
    "#GBC###\n",
    "def fit_model(alg,parameters):\n",
    "    scorer=make_scorer(roc_auc_score)\n",
    "    grid = GridSearchCV(alg,parameters,scoring=scorer,cv=5)\n",
    "    grid=grid.fit(X,y)\n",
    "    print (grid.best_params_)\n",
    "    return grid\n",
    "alg6=GradientBoostingClassifier(random_state=1)\n",
    "parameters6_1 = {'n_estimators':[100,200,300]}\n",
    "parameters6_2 = {'max_depth':[4,8]}\n",
    "parameters6_3 = {'min_samples_leaf': [100,150],'max_features': [0.3, 0.1]}\n",
    "parameters6_4 = {'learning_rate': [0.1, 0.05, 0.01]}\n",
    "clf6_m1=fit_model(alg6,parameters6_1)"
   ]
  },
  {
   "cell_type": "code",
   "execution_count": 18,
   "metadata": {},
   "outputs": [
    {
     "name": "stdout",
     "output_type": "stream",
     "text": [
      "{'max_depth': 4}\n"
     ]
    }
   ],
   "source": [
    "alg6=GradientBoostingClassifier(n_estimators=100,random_state=1)\n",
    "clf6_m2=fit_model(alg6,parameters6_2)"
   ]
  },
  {
   "cell_type": "code",
   "execution_count": 19,
   "metadata": {},
   "outputs": [
    {
     "name": "stdout",
     "output_type": "stream",
     "text": [
      "{'max_features': 0.3, 'min_samples_leaf': 100}\n"
     ]
    }
   ],
   "source": [
    "alg6=GradientBoostingClassifier(n_estimators=100,max_depth=4,random_state=1)\n",
    "clf6_m3=fit_model(alg6,parameters6_3)"
   ]
  },
  {
   "cell_type": "code",
   "execution_count": 20,
   "metadata": {},
   "outputs": [
    {
     "name": "stdout",
     "output_type": "stream",
     "text": [
      "{'learning_rate': 0.1}\n"
     ]
    }
   ],
   "source": [
    "alg6=GradientBoostingClassifier(n_estimators=100,max_depth=4,min_samples_leaf=100,max_features=0.3,random_state=1)\n",
    "clf6_m4=fit_model(alg6,parameters6_4)"
   ]
  },
  {
   "cell_type": "code",
   "execution_count": 21,
   "metadata": {},
   "outputs": [
    {
     "name": "stdout",
     "output_type": "stream",
     "text": [
      "Accuracy: 0.6696 (+/- 0.0281)\n"
     ]
    }
   ],
   "source": [
    "cv_results = (cross_val_score(alg6,X,y,scoring='accuracy',cv=kfold,n_jobs=-1))\n",
    "print(\"Accuracy: %0.4f (+/- %0.4f)\" % ((cv_results.mean(), cv_results.std())))"
   ]
  },
  {
   "cell_type": "code",
   "execution_count": 22,
   "metadata": {},
   "outputs": [
    {
     "name": "stdout",
     "output_type": "stream",
     "text": [
      "Accuracy: 0.6716 (+/- 0.0199) [Logistic Regression]\n",
      "Accuracy: 0.6369 (+/- 0.0219) [rf]\n",
      "Accuracy: 0.6576 (+/- 0.0238) [GradientBoost]\n",
      "Accuracy: 0.6667 (+/- 0.0187) [svc]\n",
      "Accuracy: 0.6655 (+/- 0.0327) [Ada]\n",
      "Accuracy: 0.6460 (+/- 0.0291) [KNN]\n",
      "Accuracy: 0.6704 (+/- 0.0217) [Ensemble]\n"
     ]
    }
   ],
   "source": [
    "clf1 = LogisticRegression()\n",
    "clf2 = RandomForestClassifier(random_state=2)\n",
    "clf3 = GradientBoostingClassifier(random_state=1)\n",
    "clf4 = SVC()\n",
    "clf5 = AdaBoostClassifier()\n",
    "clf6 = KNeighborsClassifier()\n",
    "eclf = VotingClassifier(estimators=[('lr', clf1), ('rf', clf2), \n",
    "                                    ('gnb', clf3), ('svc',clf4), ('Ada',clf5), \n",
    "                                    ('KNN', clf6)], voting='hard')\n",
    "for clf, label in zip([clf1, clf2, clf3, clf4, clf5, clf6, eclf], \n",
    "                      ['Logistic Regression', 'rf', 'GradientBoost', 'svc'\n",
    "                       , 'Ada', 'KNN', 'Ensemble']):\n",
    "    scores = cross_val_score(clf,X,y,\n",
    "                             scoring='accuracy',cv=kfold,n_jobs=-1)\n",
    "    print(\"Accuracy: %0.4f (+/- %0.4f) [%s]\" % \n",
    "          (scores.mean(), scores.std(), label))"
   ]
  },
  {
   "cell_type": "code",
   "execution_count": 23,
   "metadata": {},
   "outputs": [
    {
     "name": "stderr",
     "output_type": "stream",
     "text": [
      "/home/wangbo/anaconda3/lib/python3.8/site-packages/pandas/core/indexing.py:670: SettingWithCopyWarning: \n",
      "A value is trying to be set on a copy of a slice from a DataFrame\n",
      "\n",
      "See the caveats in the documentation: https://pandas.pydata.org/pandas-docs/stable/user_guide/indexing.html#returning-a-view-versus-a-copy\n",
      "  iloc._setitem_with_indexer(indexer, value)\n"
     ]
    },
    {
     "data": {
      "text/html": [
       "<div>\n",
       "<style scoped>\n",
       "    .dataframe tbody tr th:only-of-type {\n",
       "        vertical-align: middle;\n",
       "    }\n",
       "\n",
       "    .dataframe tbody tr th {\n",
       "        vertical-align: top;\n",
       "    }\n",
       "\n",
       "    .dataframe thead th {\n",
       "        text-align: right;\n",
       "    }\n",
       "</style>\n",
       "<table border=\"1\" class=\"dataframe\">\n",
       "  <thead>\n",
       "    <tr style=\"text-align: right;\">\n",
       "      <th></th>\n",
       "      <th>text</th>\n",
       "      <th>helpfulness</th>\n",
       "      <th>ranking</th>\n",
       "    </tr>\n",
       "  </thead>\n",
       "  <tbody>\n",
       "    <tr>\n",
       "      <th>6418</th>\n",
       "      <td>One of the best things about this place is the pricing compared to steakhouses on the on the Strip. Its also a great place in that it's a steakhouse but it also has other items, great for couples where one enjoys a good steak and the other is less of a carnivore!\\n\\nThe service was great and the hostess immediately asked if it was our first time or if we were celebrating something special. Yes to the first, no to the second. But that information was clearly passed on, as our waited and a manager-type both acknowledged that we had not been in before and took the time to explain the menu/food/ect. So there is a long line of communication going on between employees and that's a good thing. \\n\\nNow to the food: \\n\\nShort-rib grilled cheese - Order it! Just do it. It comes with thick bread, egg battered and then grilled with tender, savory short-rib meat, gruyere cheese and white cheddar. It's savory, flavorful and filling. \\n\\nRibeye - I'm not much of a steak eater, but I enjoyed the seasoning and flavors of this steak and the way it was cooked. \\n\\nGarlic Chips - come with each entree and are the classic home-made style of kettle cooked potato chips. They are salty and garlicky and good. \\n\\nMac and cheese - pretty standard. Creamy with breadcrumbs on the top. Not the best mac and cheese you've ever had, but still good. \\n\\nBrocillini - pretty basic, but good. \\n\\nLamb cigars - almost like an eggroll, but with lamb filling. Unique but worth trying. I could have done with out the wrapping and just had the strips of meat, but the eggroll aspect did give it a unique flavor and style that I haven't had before. \\n\\nBaked brie - I'd probably skip next time. I love cheeses but this brie did not have much flavor and the bread was over cooked. Just wasn't my favorite. \\n\\nEach of those items plus a bottle of wine and the bill was about $150 which is a nice price when you compare it to what you would pay at a steakhouse on the Strip. The menu is large enough that you could go back several times and never order the same thing. The service was great, food was high quality and well prepared and the atmosphere was nice.</td>\n",
       "      <td>1</td>\n",
       "      <td>3.746124</td>\n",
       "    </tr>\n",
       "    <tr>\n",
       "      <th>8700</th>\n",
       "      <td>I most recently went here for dinner to celebrate my friend's birthday. This is one of those restaurants that is just ok. An average restaurant. The food is not bad, but not too memorable either. I've been here a couple times before for brunch. The reason I go for brunch here is not because of the food, but because they have bottomless mimosas (for $16. Bottomless bloody mary for $22) and they're not stingy with the champagne :) Also, the place is nice and easily accessible, so it makes a good place to meet up with friends. I tried their short rib hash and steakhouse scramble for brunch. Both were ok. Not special enough for me to want to order again. I do really like their portobello fries! \\n\\nFor my friend's birthday dinner, I shared a 48 Oz. tomahawk steak with 3 other people. I think the steak was cooked a bit too charred on the outside, but the inside was a nice medium. However, the steak was bland and not tender. It was so bland that I had to eat it with a sauce. I recommend the brandied mushroom and the red wine demi (they offer 7 different sauces). The fact that I had to eat the steak with a sauce is quite sad. To me, a sign of a good steak is when you can eat it by itself and you can savor that juicy meaty taste alone, not covered by some sauces. For sides, I tried the cauliflower (this is good), brussels sprouts (just ok), and mashes potatoes (again, just ok). I also tried the steak tartare for appetizer. Nothing wrong with it, but I've had better. Service was kind of on the slow side that night. \\n\\nSide notes: you can bring your own bottles of wine and they don't charge a corkage fee. If you have a big party, they automatically add a 20% tip. \\n\\nOverall, this is a nice place away from the strip to have some drinks and appetizers (portobello fries!). If you're looking for a good steak though, there are other local places that offer better tasting steaks.</td>\n",
       "      <td>1</td>\n",
       "      <td>2.902208</td>\n",
       "    </tr>\n",
       "    <tr>\n",
       "      <th>7551</th>\n",
       "      <td>Been here three times and all three times I really enjoyed it. First time, mainly because I was with my two awesome girlfriends I have not seen in years and we always manage to order the best dishes together and have a blast. \\n\\nOther two times were with my man and the dog and well.. I could be eating a frozen chicken drumstick in an NYC subway stop and have the most awesomest time ever. \\n\\nOther than great company, the food is also pretty good. I love a good off the strip steakhouse.\\n\\nThey used to have this gazpacho that is just ridiculous. It's off of the menu now. I recently \\ne-mailed the GM asking for the recipe and they gave it to us! My love and I had an amazing time preparing it at home. Got loaded on some first class whites and enjoyed this amazing, cold and crisp treat. Just perfect. Thank you guys so so much!! I made two gallons of it, probably. Gazpacho for days, people.\\n\\nThe fried spinach salad is pretty amazing. Great texture paired with tangy and sweet Asian vinaigrette.\\n\\nThe grits and pork belly is just amazing. My steak was as pretty damn good too. Everything was lovely except the ceviche.... Interesting flavor, off putting color. Did not care for it, but only because I was craving the traditional chopped shrimp, onion, cilantro, lime situation. \\n\\nSit on the patio, the evening and nightfall are great :-)</td>\n",
       "      <td>1</td>\n",
       "      <td>2.600994</td>\n",
       "    </tr>\n",
       "    <tr>\n",
       "      <th>7256</th>\n",
       "      <td>The ambiance is lovely and many of the dishes above average but the service was so terrible, it can guarantee you'll have a bad night ....so why bother?\\n\\nEverything started off fine even though the wait for a table ended up not being the '10 minutes\" they promised but well over 30 minutes. They sit you down and get your order and everything seems fine. And then you wait.\\n\\nOver 45 minutes later, without a peep from our waitress to check in and let us know what is going, then dump food on our table. I say \"dump\" because we had ordered several courses - soups, salad and main dishes and side dishes andmost of it came out at once...other than the soup and a veggie dish, which we then had to wait another 15 minutes for.  How the heck does the soup come out last?! The worst part about it is that most of the dishes were cold. \\n\\nRather than serving us dishes as they were ready, it was obvious they waited or forgot about our order for a very long time.\\n\\nWe mentioned our frustration to the waitress in a nice way and she said the kitchen was backed up. Then management pops up while we are still waiting for some of our food and asking how is everything.  We mention having some issues with the wait and he makes a snarky comment rather than apologizing or trying to make things a bit better. We weren't at all rude but he handled it all very badly. \\n\\nI think the popularity of the restaurant has made management think that it's ok to treat people badly and that they can afford to lose a few customers. I was appalled and will never go back.\\n\\nIt was one of the worst evenings we've had in a long time. We can't suggest anything other than just avoid the place until they work out the service kinks unless you are in the mood to take the risk of really bad and rude service.</td>\n",
       "      <td>1</td>\n",
       "      <td>2.562474</td>\n",
       "    </tr>\n",
       "    <tr>\n",
       "      <th>6402</th>\n",
       "      <td>So I went here on a date recently.. the atmosphere was perfect for a romantic date! the host was very friendly and sweet. We walked up the stairs to a nice table by the windows. its far enough from other tables that you feel like you can have a nice conversation with the person you're with. The overall feel of the place is classy yet relaxing feel to it as well. The waiter we got was very attentive and was awesome. He was an older bald gentleman.. don't remember his name though. He seemed like he worked there for a while and knows his stuff. My date brought a couple of bottle of wines and the waiter was awesome at making sure the wine was poured into the glass decanter to bring out the flavor of the wine and he even poured it back into the bottle when we couldn't finish it all before we left. Service was amazing! top notch\\n\\nSo for starters we ordered the bone marrow carne asada.. my dates favorite dish! It was alright for me.. we also had Maryland lump crab cake as well.. which was tasty but nothing amazing. Just a normal crab cake. \\n\\nSo for dinner my date ordered the ribeye cap for $30 and I ordered the bavette which is supposed to be american kobe.. for $28. Price point for steaks is not bad.. the sauces they have for the steaks are pretty tasty too! So.. as far as my steak goes.. I was expecting a soft filet type of kobe steak... the steak I got was on the chewy side and definitely can't be cut with a fork.. I was not blown away by this steak.. I was expecting a better tasting steak with a better cut for what it was... maybe I should have ordered a the ribeye cap??.. which might of been more flavorful.. we also ordered sides too.. the mac and cheese.. was so good! as well as broccolini i believe... \\n\\nOverall.. I would like to come back again.. this is a perfect date spot or a nice restaurant to come to with friends.. Service is great.. and food is good. I would recommend!</td>\n",
       "      <td>1</td>\n",
       "      <td>2.286715</td>\n",
       "    </tr>\n",
       "  </tbody>\n",
       "</table>\n",
       "</div>"
      ],
      "text/plain": [
       "                                                                                                                                                                                                                                                                                                                                                                                                                                                                                                                                                                                                                                                                                                                                                                                                                                                                                                                                                                                                                                                                                                                                                                                                                                                                                                                                                                                                                                                                                                                                                                                                                                                                                                                                                                                                                                                                                                                                                                                                                                                                                                                                                                                                                              text  \\\n",
       "6418  One of the best things about this place is the pricing compared to steakhouses on the on the Strip. Its also a great place in that it's a steakhouse but it also has other items, great for couples where one enjoys a good steak and the other is less of a carnivore!\\n\\nThe service was great and the hostess immediately asked if it was our first time or if we were celebrating something special. Yes to the first, no to the second. But that information was clearly passed on, as our waited and a manager-type both acknowledged that we had not been in before and took the time to explain the menu/food/ect. So there is a long line of communication going on between employees and that's a good thing. \\n\\nNow to the food: \\n\\nShort-rib grilled cheese - Order it! Just do it. It comes with thick bread, egg battered and then grilled with tender, savory short-rib meat, gruyere cheese and white cheddar. It's savory, flavorful and filling. \\n\\nRibeye - I'm not much of a steak eater, but I enjoyed the seasoning and flavors of this steak and the way it was cooked. \\n\\nGarlic Chips - come with each entree and are the classic home-made style of kettle cooked potato chips. They are salty and garlicky and good. \\n\\nMac and cheese - pretty standard. Creamy with breadcrumbs on the top. Not the best mac and cheese you've ever had, but still good. \\n\\nBrocillini - pretty basic, but good. \\n\\nLamb cigars - almost like an eggroll, but with lamb filling. Unique but worth trying. I could have done with out the wrapping and just had the strips of meat, but the eggroll aspect did give it a unique flavor and style that I haven't had before. \\n\\nBaked brie - I'd probably skip next time. I love cheeses but this brie did not have much flavor and the bread was over cooked. Just wasn't my favorite. \\n\\nEach of those items plus a bottle of wine and the bill was about $150 which is a nice price when you compare it to what you would pay at a steakhouse on the Strip. The menu is large enough that you could go back several times and never order the same thing. The service was great, food was high quality and well prepared and the atmosphere was nice.   \n",
       "8700                                                                                                                                                                                                                                                    I most recently went here for dinner to celebrate my friend's birthday. This is one of those restaurants that is just ok. An average restaurant. The food is not bad, but not too memorable either. I've been here a couple times before for brunch. The reason I go for brunch here is not because of the food, but because they have bottomless mimosas (for $16. Bottomless bloody mary for $22) and they're not stingy with the champagne :) Also, the place is nice and easily accessible, so it makes a good place to meet up with friends. I tried their short rib hash and steakhouse scramble for brunch. Both were ok. Not special enough for me to want to order again. I do really like their portobello fries! \\n\\nFor my friend's birthday dinner, I shared a 48 Oz. tomahawk steak with 3 other people. I think the steak was cooked a bit too charred on the outside, but the inside was a nice medium. However, the steak was bland and not tender. It was so bland that I had to eat it with a sauce. I recommend the brandied mushroom and the red wine demi (they offer 7 different sauces). The fact that I had to eat the steak with a sauce is quite sad. To me, a sign of a good steak is when you can eat it by itself and you can savor that juicy meaty taste alone, not covered by some sauces. For sides, I tried the cauliflower (this is good), brussels sprouts (just ok), and mashes potatoes (again, just ok). I also tried the steak tartare for appetizer. Nothing wrong with it, but I've had better. Service was kind of on the slow side that night. \\n\\nSide notes: you can bring your own bottles of wine and they don't charge a corkage fee. If you have a big party, they automatically add a 20% tip. \\n\\nOverall, this is a nice place away from the strip to have some drinks and appetizers (portobello fries!). If you're looking for a good steak though, there are other local places that offer better tasting steaks.   \n",
       "7551                                                                                                                                                                                                                                                                                                                                                                                                                                                                                                                                                                                                                                                                                                                                                                                                                      Been here three times and all three times I really enjoyed it. First time, mainly because I was with my two awesome girlfriends I have not seen in years and we always manage to order the best dishes together and have a blast. \\n\\nOther two times were with my man and the dog and well.. I could be eating a frozen chicken drumstick in an NYC subway stop and have the most awesomest time ever. \\n\\nOther than great company, the food is also pretty good. I love a good off the strip steakhouse.\\n\\nThey used to have this gazpacho that is just ridiculous. It's off of the menu now. I recently \\ne-mailed the GM asking for the recipe and they gave it to us! My love and I had an amazing time preparing it at home. Got loaded on some first class whites and enjoyed this amazing, cold and crisp treat. Just perfect. Thank you guys so so much!! I made two gallons of it, probably. Gazpacho for days, people.\\n\\nThe fried spinach salad is pretty amazing. Great texture paired with tangy and sweet Asian vinaigrette.\\n\\nThe grits and pork belly is just amazing. My steak was as pretty damn good too. Everything was lovely except the ceviche.... Interesting flavor, off putting color. Did not care for it, but only because I was craving the traditional chopped shrimp, onion, cilantro, lime situation. \\n\\nSit on the patio, the evening and nightfall are great :-)   \n",
       "7256                                                                                                                                                                                                                                                                                                                                                                The ambiance is lovely and many of the dishes above average but the service was so terrible, it can guarantee you'll have a bad night ....so why bother?\\n\\nEverything started off fine even though the wait for a table ended up not being the '10 minutes\" they promised but well over 30 minutes. They sit you down and get your order and everything seems fine. And then you wait.\\n\\nOver 45 minutes later, without a peep from our waitress to check in and let us know what is going, then dump food on our table. I say \"dump\" because we had ordered several courses - soups, salad and main dishes and side dishes andmost of it came out at once...other than the soup and a veggie dish, which we then had to wait another 15 minutes for.  How the heck does the soup come out last?! The worst part about it is that most of the dishes were cold. \\n\\nRather than serving us dishes as they were ready, it was obvious they waited or forgot about our order for a very long time.\\n\\nWe mentioned our frustration to the waitress in a nice way and she said the kitchen was backed up. Then management pops up while we are still waiting for some of our food and asking how is everything.  We mention having some issues with the wait and he makes a snarky comment rather than apologizing or trying to make things a bit better. We weren't at all rude but he handled it all very badly. \\n\\nI think the popularity of the restaurant has made management think that it's ok to treat people badly and that they can afford to lose a few customers. I was appalled and will never go back.\\n\\nIt was one of the worst evenings we've had in a long time. We can't suggest anything other than just avoid the place until they work out the service kinks unless you are in the mood to take the risk of really bad and rude service.   \n",
       "6402                                                                                                                                                                                                                                     So I went here on a date recently.. the atmosphere was perfect for a romantic date! the host was very friendly and sweet. We walked up the stairs to a nice table by the windows. its far enough from other tables that you feel like you can have a nice conversation with the person you're with. The overall feel of the place is classy yet relaxing feel to it as well. The waiter we got was very attentive and was awesome. He was an older bald gentleman.. don't remember his name though. He seemed like he worked there for a while and knows his stuff. My date brought a couple of bottle of wines and the waiter was awesome at making sure the wine was poured into the glass decanter to bring out the flavor of the wine and he even poured it back into the bottle when we couldn't finish it all before we left. Service was amazing! top notch\\n\\nSo for starters we ordered the bone marrow carne asada.. my dates favorite dish! It was alright for me.. we also had Maryland lump crab cake as well.. which was tasty but nothing amazing. Just a normal crab cake. \\n\\nSo for dinner my date ordered the ribeye cap for $30 and I ordered the bavette which is supposed to be american kobe.. for $28. Price point for steaks is not bad.. the sauces they have for the steaks are pretty tasty too! So.. as far as my steak goes.. I was expecting a soft filet type of kobe steak... the steak I got was on the chewy side and definitely can't be cut with a fork.. I was not blown away by this steak.. I was expecting a better tasting steak with a better cut for what it was... maybe I should have ordered a the ribeye cap??.. which might of been more flavorful.. we also ordered sides too.. the mac and cheese.. was so good! as well as broccolini i believe... \\n\\nOverall.. I would like to come back again.. this is a perfect date spot or a nice restaurant to come to with friends.. Service is great.. and food is good. I would recommend!   \n",
       "\n",
       "      helpfulness   ranking  \n",
       "6418            1  3.746124  \n",
       "8700            1  2.902208  \n",
       "7551            1  2.600994  \n",
       "7256            1  2.562474  \n",
       "6402            1  2.286715  "
      ]
     },
     "execution_count": 23,
     "metadata": {},
     "output_type": "execute_result"
    }
   ],
   "source": [
    "###Final Result####\n",
    "clf1.fit(X,y)\n",
    "preData=clf1.predict(X)\n",
    "preData=preData.astype(int)\n",
    "LRpreResultDf=pd.DataFrame()\n",
    "LRpreResultDf['text']=data2['text']\n",
    "LRpreResultDf['helpfulness']=preData\n",
    "LRpreResultDf\n",
    "i=0\n",
    "LRpreResultDf['ranking']=0\n",
    "while i <=2417:\n",
    "    LRpreResultDf['ranking'].iloc[i]=review_list['Scaled_ind_adj'].iloc[i]-review_list['Scaled_Readability'].iloc[i]-review_list['Scaled_notindic'].iloc[i]\n",
    "    i+=1\n",
    "helpfulness1 = LRpreResultDf['helpfulness']==1\n",
    "helpfulness1\n",
    "LRpreResultDf1=LRpreResultDf[helpfulness1]\n",
    "final_LRpreResultDf= LRpreResultDf1.sort_values(by=['ranking'], ascending=False)\n",
    "pd.set_option('display.max_colwidth', None)\n",
    "final_LRpreResultDf.head()"
   ]
  },
  {
   "cell_type": "code",
   "execution_count": null,
   "metadata": {},
   "outputs": [],
   "source": []
  }
 ],
 "metadata": {
  "kernelspec": {
   "display_name": "Python 3",
   "language": "python",
   "name": "python3"
  },
  "language_info": {
   "codemirror_mode": {
    "name": "ipython",
    "version": 3
   },
   "file_extension": ".py",
   "mimetype": "text/x-python",
   "name": "python",
   "nbconvert_exporter": "python",
   "pygments_lexer": "ipython3",
   "version": "3.8.3"
  }
 },
 "nbformat": 4,
 "nbformat_minor": 4
}
